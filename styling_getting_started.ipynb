{
 "cells": [
  {
   "cell_type": "code",
   "execution_count": 1,
   "id": "f07f3adb",
   "metadata": {},
   "outputs": [],
   "source": [
    "import dash\n",
    "import dash_core_components as dcc\n",
    "import dash_html_components as html\n",
    "\n",
    "from jupyter_dash import JupyterDash\n",
    "\n",
    "import dash_bootstrap_components as dbc\n",
    "#from utils.external_assets import FONT_AWSOME, CUSTOM_STYLE\n",
    "CUSTOM_STYLE = \"/assets/header.css\"\n",
    "DIV_STYLE = \"/assets/mydiv.css\"\n",
    "external_stylesheets=[dbc.themes.BOOTSTRAP,CUSTOM_STYLE,DIV_STYLE]\n",
    "#app = JupyterDash(__name__, external_stylesheets=[external_stylesheets,\"header.css\"])\n",
    "app = JupyterDash(__name__, external_stylesheets=external_stylesheets,\n",
    "                  meta_tags=[{'name': 'viewport', 'content': 'width=device-width, initial-scale=1'}])\n",
    "# Add css file (locally hosted)\n",
    "#app.css.append_css({\"external_url\": [\n",
    "#    \"header.css\"\n",
    "#]})\n",
    "\n",
    "# Create server variable with Flask server object for use with gunicorn\n",
    "server = app.server"
   ]
  },
  {
   "cell_type": "code",
   "execution_count": 2,
   "id": "5f3cf684",
   "metadata": {},
   "outputs": [],
   "source": [
    "app_layout1 = html.Div(\n",
    "    className=\"divclass\",\n",
    "    children=[\n",
    "    html.Div(\n",
    "        className=\"app-header\",\n",
    "        children=[\n",
    "            html.Div('Plotly Dash', className=\"app-header--title\")\n",
    "        ]\n",
    "    ),\n",
    "    html.Div(\n",
    "        children=html.Div([\n",
    "            html.H5('Overview'),\n",
    "            html.Div('''\n",
    "                This is an example of a simple Dash app with\n",
    "                local, customized CSS.\n",
    "            ''')\n",
    "        ])\n",
    "    )\n",
    "])"
   ]
  },
  {
   "cell_type": "code",
   "execution_count": 3,
   "id": "f50ced10",
   "metadata": {},
   "outputs": [],
   "source": [
    "app_layout2 = dbc.Container(\n",
    "    children=[\n",
    "    dbc.Row(\n",
    "        className=\"app-header\",\n",
    "        children=[\n",
    "            html.Div('Plotly Dash', className=\"app-header--title\")\n",
    "        ]\n",
    "    ),\n",
    "    dbc.Row(\n",
    "        children=html.Div([\n",
    "            html.H5('Overview'),\n",
    "            html.Div('''\n",
    "                This is an example of a simple Dash app with\n",
    "                local, customized CSS.\n",
    "            ''')\n",
    "        ])\n",
    "    ),\n",
    "        html.Div('''\n",
    "Lorem ipsum dolor sit amet, consectetur adipiscing elit, sed do eiusmod tempor\n",
    "incididunt ut labore et dolore magna aliqua. Ut enim ad minim veniam, quis nostrud\n",
    "exercitation ullamco laboris nisi ut aliquip ex ea commodo consequat.\n",
    "Duis aute irure dolor in reprehenderit in voluptate velit esse cillum\n",
    "dolore eu fugiat nulla pariatur.\n",
    "''', className=\"yellow-div\")\n",
    "])"
   ]
  },
  {
   "cell_type": "code",
   "execution_count": 4,
   "id": "831d9109",
   "metadata": {},
   "outputs": [],
   "source": [
    "app_layout3 = dbc.Container(\n",
    "        html.Div('''\n",
    "Lorem ipsum dolor sit amet, consectetur adipiscing elit, sed do eiusmod tempor\n",
    "incididunt ut labore et dolore magna aliqua. Ut enim ad minim veniam, quis nostrud\n",
    "exercitation ullamco laboris nisi ut aliquip ex ea commodo consequat.\n",
    "Duis aute irure dolor in reprehenderit in voluptate velit esse cillum\n",
    "dolore eu fugiat nulla pariatur.\n",
    "''' )\n",
    ", className=\"my-container\")"
   ]
  },
  {
   "cell_type": "code",
   "execution_count": 5,
   "id": "62752d9b",
   "metadata": {},
   "outputs": [],
   "source": [
    "app_layout4 = dbc.Container(\n",
    "children=[html.Div(className=\"container w-25 border\",\n",
    "        children=[dbc.Row(\n",
    "            dbc.Col(\n",
    "                html.Div('Container Left - Row 1')\n",
    "            )\n",
    "        ),\n",
    "       dbc.Row(\n",
    "            dbc.Col(\n",
    "                html.Div('Container Left - Row 2')\n",
    "            )\n",
    "       )]\n",
    "        ),\n",
    "         html.Div(className=\"container w-75 border\",\n",
    "        children=[dbc.Row(\n",
    "            dbc.Col(\n",
    "                html.Div('Container Right - Row 1')\n",
    "            )\n",
    "        ),\n",
    "       dbc.Row(\n",
    "            dbc.Col(\n",
    "                html.Div('Container Right - Row 2')\n",
    "            )\n",
    "       )]\n",
    "        )\n",
    "         ]\n",
    "    ,className=\"parent-container d-flex\")"
   ]
  },
  {
   "cell_type": "code",
   "execution_count": 6,
   "id": "f1553ec1",
   "metadata": {},
   "outputs": [],
   "source": [
    "app.layout = app_layout1"
   ]
  },
  {
   "cell_type": "code",
   "execution_count": 7,
   "id": "b98a1cbb",
   "metadata": {},
   "outputs": [
    {
     "name": "stdout",
     "output_type": "stream",
     "text": [
      "Dash app running on http://127.0.0.1:5050/\n"
     ]
    }
   ],
   "source": [
    "app.run_server(debug=True,port=5050)"
   ]
  },
  {
   "cell_type": "code",
   "execution_count": null,
   "id": "4f3a4ea6",
   "metadata": {},
   "outputs": [],
   "source": []
  },
  {
   "cell_type": "code",
   "execution_count": null,
   "id": "d6e6d61e",
   "metadata": {},
   "outputs": [],
   "source": []
  }
 ],
 "metadata": {
  "kernelspec": {
   "display_name": "Python 3",
   "language": "python",
   "name": "python3"
  },
  "language_info": {
   "codemirror_mode": {
    "name": "ipython",
    "version": 3
   },
   "file_extension": ".py",
   "mimetype": "text/x-python",
   "name": "python",
   "nbconvert_exporter": "python",
   "pygments_lexer": "ipython3",
   "version": "3.8.10"
  }
 },
 "nbformat": 4,
 "nbformat_minor": 5
}
