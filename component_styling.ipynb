{
 "cells": [
  {
   "cell_type": "code",
   "execution_count": 1,
   "id": "80eea246",
   "metadata": {},
   "outputs": [],
   "source": [
    "import dash\n",
    "import dash_core_components as dcc\n",
    "import dash_html_components as html\n",
    "\n",
    "from jupyter_dash import JupyterDash\n",
    "\n",
    "import dash_bootstrap_components as dbc\n",
    "COMPONENT_STYLE = \"/assets/my_component.css\"\n",
    "external_stylesheets=[dbc.themes.BOOTSTRAP,COMPONENT_STYLE]\n",
    "\n",
    "app = JupyterDash(__name__, external_stylesheets=external_stylesheets,\n",
    "                  meta_tags=[{'name': 'viewport', 'content': 'width=device-width, initial-scale=1'}])\n",
    "# Create server variable with Flask server object for use with gunicorn\n",
    "server = app.server"
   ]
  },
  {
   "cell_type": "code",
   "execution_count": 2,
   "id": "d0ac9cd9",
   "metadata": {},
   "outputs": [],
   "source": [
    "app_layout1= html.Div(className=\"container w-25 border\"\n",
    "                       ,children= [html.Div(className=\"mydiv\",children= [\n",
    "    dcc.Slider(\n",
    "        min=-5,\n",
    "        max=10,\n",
    "        step=0.5,\n",
    "        value=-3\n",
    "    )\n",
    "])])"
   ]
  },
  {
   "cell_type": "code",
   "execution_count": 3,
   "id": "482832c3",
   "metadata": {},
   "outputs": [],
   "source": [
    "app_layout2 = html.Div(className=\"container w-75 border\"\n",
    "                       ,children= [html.Div(className=\"mydiv\",children= [\n",
    "    dcc.Slider(\n",
    "        min=-5,\n",
    "        max=10,\n",
    "        step=0.5,\n",
    "        value=-3\n",
    "    )\n",
    "])])"
   ]
  },
  {
   "cell_type": "code",
   "execution_count": 4,
   "id": "41205be5",
   "metadata": {},
   "outputs": [],
   "source": [
    "app_layout3 = dbc.Container(children=[app_layout1,app_layout2],className=\"parent-container d-flex\")"
   ]
  },
  {
   "cell_type": "code",
   "execution_count": 5,
   "id": "865aa24e",
   "metadata": {},
   "outputs": [],
   "source": [
    "app_layout4 = html.Div(className=\"container border\"\n",
    "                       ,children= [html.Div(className=\"mydiv\",children= [\n",
    "    dcc.Checklist(\n",
    "    options=[\n",
    "        {'label': 'New York City', 'value': 'NYC'},\n",
    "        {'label': 'Montréal', 'value': 'MTL'},\n",
    "        {'label': 'San Francisco', 'value': 'SF'}\n",
    "    ],\n",
    "    value=['NYC', 'MTL'],\n",
    "    labelStyle={'display': 'inline-block'},\n",
    "    inputClassName=\"w3-check\"\n",
    "    )]\n",
    ")])"
   ]
  },
  {
   "cell_type": "code",
   "execution_count": 12,
   "id": "0bffb6c9",
   "metadata": {},
   "outputs": [],
   "source": [
    "checklist = html.Div(\n",
    "    [\n",
    "        dbc.Checklist(\n",
    "            id=\"checklist-selected-style\",\n",
    "            options=[\n",
    "                {\"label\": \"Option 1\", \"value\": 1},\n",
    "                {\"label\": \"Option 2\", \"value\": 2},\n",
    "                {\"label\": \"Option 3\", \"value\": 3},\n",
    "            ],\n",
    "            labelCheckedStyle={\"color\": \"red\"},\n",
    "            inputStyle={\n",
    "                \"backgroundColor\": \"blue\",\n",
    "                \"borderColor\": \"green\",\n",
    "            },\n",
    "        ),\n",
    "        html.Hr(),\n",
    "        dbc.RadioItems(\n",
    "            id=\"radio-selected-style\",\n",
    "            options=[\n",
    "                {\"label\": \"Option 1\", \"value\": 1},\n",
    "                {\"label\": \"Option 2\", \"value\": 2},\n",
    "                {\"label\": \"Option 3\", \"value\": 3},\n",
    "            ],\n",
    "            labelCheckedClassName=\"text-success\",\n",
    "            inputClassName=\"border border-success bg-success\",\n",
    "        ),\n",
    "    ]\n",
    ")"
   ]
  },
  {
   "cell_type": "code",
   "execution_count": 13,
   "id": "18ae89de",
   "metadata": {},
   "outputs": [],
   "source": [
    "app.layout = checklist"
   ]
  },
  {
   "cell_type": "code",
   "execution_count": 14,
   "id": "3b7edc76",
   "metadata": {},
   "outputs": [
    {
     "name": "stdout",
     "output_type": "stream",
     "text": [
      "Dash app running on http://127.0.0.1:5051/\n"
     ]
    }
   ],
   "source": [
    "app.run_server(debug=True,port=5051)"
   ]
  },
  {
   "cell_type": "code",
   "execution_count": 7,
   "id": "416152a7",
   "metadata": {},
   "outputs": [
    {
     "name": "stdout",
     "output_type": "stream",
     "text": [
      "Help on class Checklist in module dash_core_components.Checklist:\n",
      "\n",
      "class Checklist(dash.development.base_component.Component)\n",
      " |  Checklist(id=undefined, options=undefined, value=undefined, className=undefined, style=undefined, inputStyle=undefined, inputClassName=undefined, labelStyle=undefined, labelClassName=undefined, loading_state=undefined, persistence=undefined, persisted_props=undefined, persistence_type=undefined, **kwargs)\n",
      " |  \n",
      " |  A Checklist component.\n",
      " |  Checklist is a component that encapsulates several checkboxes.\n",
      " |  The values and labels of the checklist are specified in the `options`\n",
      " |  property and the checked items are specified with the `value` property.\n",
      " |  Each checkbox is rendered as an input with a surrounding label.\n",
      " |  \n",
      " |  Keyword arguments:\n",
      " |  - id (string; optional): The ID of this component, used to identify dash components\n",
      " |  in callbacks. The ID needs to be unique across all of the\n",
      " |  components in an app.\n",
      " |  - options (dict; optional): An array of options. options has the following type: list of dicts containing keys 'label', 'value', 'disabled'.\n",
      " |  Those keys have the following types:\n",
      " |    - label (string | number; required): The checkbox's label\n",
      " |    - value (string | number; required): The value of the checkbox. This value\n",
      " |  corresponds to the items specified in the\n",
      " |  `value` property.\n",
      " |    - disabled (boolean; optional): If true, this checkbox is disabled and can't be clicked on.\n",
      " |  - value (list of string | numbers; optional): The currently selected value\n",
      " |  - className (string; optional): The class of the container (div)\n",
      " |  - style (dict; optional): The style of the container (div)\n",
      " |  - inputStyle (dict; optional): The style of the <input> checkbox element\n",
      " |  - inputClassName (string; default ''): The class of the <input> checkbox element\n",
      " |  - labelStyle (dict; optional): The style of the <label> that wraps the checkbox input\n",
      " |   and the option's label\n",
      " |  - labelClassName (string; default ''): The class of the <label> that wraps the checkbox input\n",
      " |   and the option's label\n",
      " |  - loading_state (dict; optional): Object that holds the loading state object coming from dash-renderer. loading_state has the following type: dict containing keys 'is_loading', 'prop_name', 'component_name'.\n",
      " |  Those keys have the following types:\n",
      " |    - is_loading (boolean; optional): Determines if the component is loading or not\n",
      " |    - prop_name (string; optional): Holds which property is loading\n",
      " |    - component_name (string; optional): Holds the name of the component that is loading\n",
      " |  - persistence (boolean | string | number; optional): Used to allow user interactions in this component to be persisted when\n",
      " |  the component - or the page - is refreshed. If `persisted` is truthy and\n",
      " |  hasn't changed from its previous value, a `value` that the user has\n",
      " |  changed while using the app will keep that change, as long as\n",
      " |  the new `value` also matches what was given originally.\n",
      " |  Used in conjunction with `persistence_type`.\n",
      " |  - persisted_props (list of a value equal to: 'value's; default ['value']): Properties whose user interactions will persist after refreshing the\n",
      " |  component or the page. Since only `value` is allowed this prop can\n",
      " |  normally be ignored.\n",
      " |  - persistence_type (a value equal to: 'local', 'session', 'memory'; default 'local'): Where persisted user changes will be stored:\n",
      " |  memory: only kept in memory, reset on page refresh.\n",
      " |  local: window.localStorage, data is kept after the browser quit.\n",
      " |  session: window.sessionStorage, data is cleared once the browser quit.\n",
      " |  \n",
      " |  Method resolution order:\n",
      " |      Checklist\n",
      " |      dash.development.base_component.Component\n",
      " |      builtins.object\n",
      " |  \n",
      " |  Methods defined here:\n",
      " |  \n",
      " |  __init__ = wrapper(self, id=undefined, options=undefined, value=undefined, className=undefined, style=undefined, inputStyle=undefined, inputClassName=undefined, labelStyle=undefined, labelClassName=undefined, loading_state=undefined, persistence=undefined, persisted_props=undefined, persistence_type=undefined, **kwargs)\n",
      " |  \n",
      " |  ----------------------------------------------------------------------\n",
      " |  Data and other attributes defined here:\n",
      " |  \n",
      " |  __abstractmethods__ = frozenset()\n",
      " |  \n",
      " |  ----------------------------------------------------------------------\n",
      " |  Methods inherited from dash.development.base_component.Component:\n",
      " |  \n",
      " |  __delitem__(self, id)\n",
      " |      Delete items by ID in the tree of children.\n",
      " |  \n",
      " |  __getitem__(self, id)\n",
      " |      Recursively find the element with the given ID through the tree of\n",
      " |      children.\n",
      " |  \n",
      " |  __iter__(self)\n",
      " |      Yield IDs in the tree of children.\n",
      " |  \n",
      " |  __len__(self)\n",
      " |      Return the number of items in the tree.\n",
      " |  \n",
      " |  __repr__(self)\n",
      " |      Return repr(self).\n",
      " |  \n",
      " |  __setitem__(self, id, item)\n",
      " |      Set an element by its ID.\n",
      " |  \n",
      " |  to_plotly_json(self)\n",
      " |  \n",
      " |  ----------------------------------------------------------------------\n",
      " |  Data descriptors inherited from dash.development.base_component.Component:\n",
      " |  \n",
      " |  __dict__\n",
      " |      dictionary for instance variables (if defined)\n",
      " |  \n",
      " |  __weakref__\n",
      " |      list of weak references to the object (if defined)\n",
      " |  \n",
      " |  ----------------------------------------------------------------------\n",
      " |  Data and other attributes inherited from dash.development.base_component.Component:\n",
      " |  \n",
      " |  REQUIRED = required\n",
      " |  \n",
      " |  UNDEFINED = undefined\n",
      "\n"
     ]
    }
   ],
   "source": [
    "help(dcc.Checklist)"
   ]
  },
  {
   "cell_type": "code",
   "execution_count": null,
   "id": "27ad3e28",
   "metadata": {},
   "outputs": [],
   "source": []
  }
 ],
 "metadata": {
  "kernelspec": {
   "display_name": "Python 3",
   "language": "python",
   "name": "python3"
  },
  "language_info": {
   "codemirror_mode": {
    "name": "ipython",
    "version": 3
   },
   "file_extension": ".py",
   "mimetype": "text/x-python",
   "name": "python",
   "nbconvert_exporter": "python",
   "pygments_lexer": "ipython3",
   "version": "3.8.10"
  }
 },
 "nbformat": 4,
 "nbformat_minor": 5
}
