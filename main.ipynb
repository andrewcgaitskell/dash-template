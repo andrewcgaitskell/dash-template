{
 "cells": [
  {
   "cell_type": "code",
   "execution_count": 1,
   "id": "8d0057d5",
   "metadata": {},
   "outputs": [],
   "source": [
    "import dash\n",
    "import dash_bootstrap_components as dbc\n",
    "\n",
    "from flask_caching import Cache\n",
    "\n",
    "from utils.external_assets import FONT_AWSOME, CUSTOM_STYLE\n",
    "from layout.layout import layout\n",
    "\n",
    "import flask\n",
    "\n",
    "\n",
    "server = flask.Flask(__name__) # define flask app.server\n",
    "\n",
    "app = dash.Dash(\n",
    "    __name__,\n",
    "    server=server,\n",
    "    suppress_callback_exceptions=True, \n",
    "    external_stylesheets=[\n",
    "        dbc.themes.BOOTSTRAP,\n",
    "        FONT_AWSOME,\n",
    "        CUSTOM_STYLE\n",
    "    ],\n",
    "    meta_tags=[\n",
    "        {\"name\": \"viewport\", \"content\": \"width=device-width, initial-scale=1\"}\n",
    "    ]\n",
    ")\n",
    "\n",
    "cache = Cache(app.server, config={\n",
    "    'CACHE_TYPE': 'filesystem',\n",
    "    'CACHE_DIR': 'cache-directory'\n",
    "})\n",
    "\n",
    "app.layout = layout\n",
    "\n",
    "server = app.server"
   ]
  },
  {
   "cell_type": "code",
   "execution_count": null,
   "id": "97688597",
   "metadata": {},
   "outputs": [],
   "source": []
  }
 ],
 "metadata": {
  "kernelspec": {
   "display_name": "Python 3",
   "language": "python",
   "name": "python3"
  },
  "language_info": {
   "codemirror_mode": {
    "name": "ipython",
    "version": 3
   },
   "file_extension": ".py",
   "mimetype": "text/x-python",
   "name": "python",
   "nbconvert_exporter": "python",
   "pygments_lexer": "ipython3",
   "version": "3.8.10"
  }
 },
 "nbformat": 4,
 "nbformat_minor": 5
}
