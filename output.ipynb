{
 "cells": [
  {
   "cell_type": "markdown",
   "id": "9f918300",
   "metadata": {
    "papermill": {
     "duration": 0.021611,
     "end_time": "2022-01-12T11:58:40.265850",
     "exception": false,
     "start_time": "2022-01-12T11:58:40.244239",
     "status": "completed"
    },
    "tags": []
   },
   "source": [
    "# JupyterDash\n",
    "The `jupyter-dash` package makes it easy to develop Plotly Dash apps from the Jupyter Notebook and JupyterLab.\n",
    "\n",
    "Just replace the standard `dash.Dash` class with the `jupyter_dash.JupyterDash` subclass."
   ]
  },
  {
   "cell_type": "code",
   "execution_count": 1,
   "id": "3de39278",
   "metadata": {
    "execution": {
     "iopub.execute_input": "2022-01-12T11:58:40.319001Z",
     "iopub.status.busy": "2022-01-12T11:58:40.315528Z",
     "iopub.status.idle": "2022-01-12T11:58:40.322273Z",
     "shell.execute_reply": "2022-01-12T11:58:40.322851Z"
    },
    "papermill": {
     "duration": 0.035544,
     "end_time": "2022-01-12T11:58:40.323086",
     "exception": false,
     "start_time": "2022-01-12T11:58:40.287542",
     "status": "completed"
    },
    "tags": [
     "parameters"
    ]
   },
   "outputs": [],
   "source": [
    "port = 8051"
   ]
  },
  {
   "cell_type": "code",
   "execution_count": 2,
   "id": "8a73914c",
   "metadata": {
    "execution": {
     "iopub.execute_input": "2022-01-12T11:58:40.365701Z",
     "iopub.status.busy": "2022-01-12T11:58:40.364613Z",
     "iopub.status.idle": "2022-01-12T11:58:40.368015Z",
     "shell.execute_reply": "2022-01-12T11:58:40.368575Z"
    },
    "papermill": {
     "duration": 0.026345,
     "end_time": "2022-01-12T11:58:40.368774",
     "exception": false,
     "start_time": "2022-01-12T11:58:40.342429",
     "status": "completed"
    },
    "tags": [
     "injected-parameters"
    ]
   },
   "outputs": [],
   "source": [
    "# Parameters\n",
    "port = 8052\n"
   ]
  },
  {
   "cell_type": "code",
   "execution_count": 3,
   "id": "4bf16c40",
   "metadata": {
    "execution": {
     "iopub.execute_input": "2022-01-12T11:58:40.417292Z",
     "iopub.status.busy": "2022-01-12T11:58:40.416351Z",
     "iopub.status.idle": "2022-01-12T11:58:40.564380Z",
     "shell.execute_reply": "2022-01-12T11:58:40.563834Z"
    },
    "papermill": {
     "duration": 0.172793,
     "end_time": "2022-01-12T11:58:40.564545",
     "exception": false,
     "start_time": "2022-01-12T11:58:40.391752",
     "status": "completed"
    },
    "tags": []
   },
   "outputs": [],
   "source": [
    "# in case we use Colab\n",
    "#!pip install jupyter-dash\n",
    "\n",
    "from jupyter_dash import JupyterDash"
   ]
  },
  {
   "cell_type": "code",
   "execution_count": 4,
   "id": "80a85a28",
   "metadata": {
    "execution": {
     "iopub.execute_input": "2022-01-12T11:58:40.608241Z",
     "iopub.status.busy": "2022-01-12T11:58:40.607278Z",
     "iopub.status.idle": "2022-01-12T11:58:40.989143Z",
     "shell.execute_reply": "2022-01-12T11:58:40.989865Z"
    },
    "papermill": {
     "duration": 0.405735,
     "end_time": "2022-01-12T11:58:40.990112",
     "exception": false,
     "start_time": "2022-01-12T11:58:40.584377",
     "status": "completed"
    },
    "tags": []
   },
   "outputs": [],
   "source": [
    "import dash\n",
    "import dash_core_components as dcc\n",
    "import dash_html_components as html\n",
    "import pandas as pd"
   ]
  },
  {
   "cell_type": "code",
   "execution_count": 5,
   "id": "69a62926",
   "metadata": {
    "execution": {
     "iopub.execute_input": "2022-01-12T11:58:41.055041Z",
     "iopub.status.busy": "2022-01-12T11:58:41.054357Z",
     "iopub.status.idle": "2022-01-12T11:58:41.057968Z",
     "shell.execute_reply": "2022-01-12T11:58:41.057390Z"
    },
    "papermill": {
     "duration": 0.045458,
     "end_time": "2022-01-12T11:58:41.058118",
     "exception": false,
     "start_time": "2022-01-12T11:58:41.012660",
     "status": "completed"
    },
    "tags": []
   },
   "outputs": [],
   "source": [
    "import plotly.graph_objs as go\n",
    "from dash.dependencies import Input, Output"
   ]
  },
  {
   "cell_type": "code",
   "execution_count": 6,
   "id": "0dfe4202",
   "metadata": {
    "execution": {
     "iopub.execute_input": "2022-01-12T11:58:41.101510Z",
     "iopub.status.busy": "2022-01-12T11:58:41.100559Z",
     "iopub.status.idle": "2022-01-12T11:58:41.125567Z",
     "shell.execute_reply": "2022-01-12T11:58:41.126196Z"
    },
    "papermill": {
     "duration": 0.048374,
     "end_time": "2022-01-12T11:58:41.126383",
     "exception": false,
     "start_time": "2022-01-12T11:58:41.078009",
     "status": "completed"
    },
    "tags": []
   },
   "outputs": [],
   "source": [
    "import dash_bootstrap_components as dbc"
   ]
  },
  {
   "cell_type": "markdown",
   "id": "da9c205a",
   "metadata": {
    "papermill": {
     "duration": 0.023126,
     "end_time": "2022-01-12T11:58:41.172207",
     "exception": false,
     "start_time": "2022-01-12T11:58:41.149081",
     "status": "completed"
    },
    "tags": []
   },
   "source": [
    "When running in JupyterHub or Binder, call the `infer_jupyter_config` function to detect the proxy configuration."
   ]
  },
  {
   "cell_type": "code",
   "execution_count": 7,
   "id": "fdecf2e5",
   "metadata": {
    "execution": {
     "iopub.execute_input": "2022-01-12T11:58:41.217009Z",
     "iopub.status.busy": "2022-01-12T11:58:41.216083Z",
     "iopub.status.idle": "2022-01-12T11:58:41.219456Z",
     "shell.execute_reply": "2022-01-12T11:58:41.219993Z"
    },
    "papermill": {
     "duration": 0.02712,
     "end_time": "2022-01-12T11:58:41.220161",
     "exception": false,
     "start_time": "2022-01-12T11:58:41.193041",
     "status": "completed"
    },
    "tags": []
   },
   "outputs": [],
   "source": [
    "#JupyterDash.infer_jupyter_proxy_config()"
   ]
  },
  {
   "cell_type": "markdown",
   "id": "13d02bde",
   "metadata": {
    "papermill": {
     "duration": 0.02111,
     "end_time": "2022-01-12T11:58:41.261054",
     "exception": false,
     "start_time": "2022-01-12T11:58:41.239944",
     "status": "completed"
    },
    "tags": []
   },
   "source": [
    "Construct the app"
   ]
  },
  {
   "cell_type": "code",
   "execution_count": 8,
   "id": "ab65838b",
   "metadata": {
    "execution": {
     "iopub.execute_input": "2022-01-12T11:58:41.313509Z",
     "iopub.status.busy": "2022-01-12T11:58:41.312593Z",
     "iopub.status.idle": "2022-01-12T11:58:41.323950Z",
     "shell.execute_reply": "2022-01-12T11:58:41.324587Z"
    },
    "papermill": {
     "duration": 0.040997,
     "end_time": "2022-01-12T11:58:41.324760",
     "exception": false,
     "start_time": "2022-01-12T11:58:41.283763",
     "status": "completed"
    },
    "tags": []
   },
   "outputs": [],
   "source": [
    "#external_stylesheets = ['https://codepen.io/chriddyp/pen/bWLwgP.css']\n",
    "external_stylesheets=[dbc.themes.BOOTSTRAP]\n",
    "app = JupyterDash(__name__, external_stylesheets=external_stylesheets)\n",
    "\n",
    "# Create server variable with Flask server object for use with gunicorn\n",
    "server = app.server"
   ]
  },
  {
   "cell_type": "code",
   "execution_count": 9,
   "id": "115f5d75",
   "metadata": {
    "execution": {
     "iopub.execute_input": "2022-01-12T11:58:41.368632Z",
     "iopub.status.busy": "2022-01-12T11:58:41.367709Z",
     "iopub.status.idle": "2022-01-12T11:58:41.371273Z",
     "shell.execute_reply": "2022-01-12T11:58:41.371822Z"
    },
    "papermill": {
     "duration": 0.027026,
     "end_time": "2022-01-12T11:58:41.371984",
     "exception": false,
     "start_time": "2022-01-12T11:58:41.344958",
     "status": "completed"
    },
    "tags": []
   },
   "outputs": [],
   "source": [
    "colors = {\n",
    "    'background': 'grey',\n",
    "    'text': 'blue'\n",
    "}"
   ]
  },
  {
   "cell_type": "markdown",
   "id": "143e7aab",
   "metadata": {
    "papermill": {
     "duration": 0.022793,
     "end_time": "2022-01-12T11:58:41.417416",
     "exception": false,
     "start_time": "2022-01-12T11:58:41.394623",
     "status": "completed"
    },
    "tags": []
   },
   "source": [
    "Load and preprocess data"
   ]
  },
  {
   "cell_type": "code",
   "execution_count": 10,
   "id": "6f572acb",
   "metadata": {
    "execution": {
     "iopub.execute_input": "2022-01-12T11:58:41.461007Z",
     "iopub.status.busy": "2022-01-12T11:58:41.460077Z",
     "iopub.status.idle": "2022-01-12T11:58:41.561357Z",
     "shell.execute_reply": "2022-01-12T11:58:41.560432Z"
    },
    "papermill": {
     "duration": 0.124324,
     "end_time": "2022-01-12T11:58:41.561579",
     "exception": false,
     "start_time": "2022-01-12T11:58:41.437255",
     "status": "completed"
    },
    "tags": []
   },
   "outputs": [
    {
     "data": {
      "text/html": [
       "<div>\n",
       "<style scoped>\n",
       "    .dataframe tbody tr th:only-of-type {\n",
       "        vertical-align: middle;\n",
       "    }\n",
       "\n",
       "    .dataframe tbody tr th {\n",
       "        vertical-align: top;\n",
       "    }\n",
       "\n",
       "    .dataframe thead th {\n",
       "        text-align: right;\n",
       "    }\n",
       "</style>\n",
       "<table border=\"1\" class=\"dataframe\">\n",
       "  <thead>\n",
       "    <tr style=\"text-align: right;\">\n",
       "      <th></th>\n",
       "      <th>Indicator Name</th>\n",
       "    </tr>\n",
       "  </thead>\n",
       "  <tbody>\n",
       "    <tr>\n",
       "      <th>0</th>\n",
       "      <td>Agriculture, value added (% of GDP)</td>\n",
       "    </tr>\n",
       "    <tr>\n",
       "      <th>1</th>\n",
       "      <td>CO2 emissions (metric tons per capita)</td>\n",
       "    </tr>\n",
       "    <tr>\n",
       "      <th>2</th>\n",
       "      <td>Domestic credit provided by financial sector (...</td>\n",
       "    </tr>\n",
       "    <tr>\n",
       "      <th>3</th>\n",
       "      <td>Electric power consumption (kWh per capita)</td>\n",
       "    </tr>\n",
       "    <tr>\n",
       "      <th>4</th>\n",
       "      <td>Energy use (kg of oil equivalent per capita)</td>\n",
       "    </tr>\n",
       "    <tr>\n",
       "      <th>5</th>\n",
       "      <td>Exports of goods and services (% of GDP)</td>\n",
       "    </tr>\n",
       "    <tr>\n",
       "      <th>6</th>\n",
       "      <td>Fertility rate, total (births per woman)</td>\n",
       "    </tr>\n",
       "    <tr>\n",
       "      <th>7</th>\n",
       "      <td>GDP growth (annual %)</td>\n",
       "    </tr>\n",
       "    <tr>\n",
       "      <th>8</th>\n",
       "      <td>Imports of goods and services (% of GDP)</td>\n",
       "    </tr>\n",
       "    <tr>\n",
       "      <th>9</th>\n",
       "      <td>Industry, value added (% of GDP)</td>\n",
       "    </tr>\n",
       "    <tr>\n",
       "      <th>10</th>\n",
       "      <td>Inflation, GDP deflator (annual %)</td>\n",
       "    </tr>\n",
       "    <tr>\n",
       "      <th>11</th>\n",
       "      <td>Life expectancy at birth, total (years)</td>\n",
       "    </tr>\n",
       "    <tr>\n",
       "      <th>12</th>\n",
       "      <td>Population density (people per sq. km of land ...</td>\n",
       "    </tr>\n",
       "    <tr>\n",
       "      <th>13</th>\n",
       "      <td>Services, etc., value added (% of GDP)</td>\n",
       "    </tr>\n",
       "  </tbody>\n",
       "</table>\n",
       "</div>"
      ],
      "text/plain": [
       "                                       Indicator Name\n",
       "0                 Agriculture, value added (% of GDP)\n",
       "1              CO2 emissions (metric tons per capita)\n",
       "2   Domestic credit provided by financial sector (...\n",
       "3         Electric power consumption (kWh per capita)\n",
       "4        Energy use (kg of oil equivalent per capita)\n",
       "5            Exports of goods and services (% of GDP)\n",
       "6            Fertility rate, total (births per woman)\n",
       "7                               GDP growth (annual %)\n",
       "8            Imports of goods and services (% of GDP)\n",
       "9                    Industry, value added (% of GDP)\n",
       "10                 Inflation, GDP deflator (annual %)\n",
       "11            Life expectancy at birth, total (years)\n",
       "12  Population density (people per sq. km of land ...\n",
       "13             Services, etc., value added (% of GDP)"
      ]
     },
     "execution_count": 10,
     "metadata": {},
     "output_type": "execute_result"
    }
   ],
   "source": [
    "df = pd.read_csv('https://plotly.github.io/datasets/country_indicators.csv')\n",
    "#df\n",
    "available_indicators = df[['Indicator Name']].copy()\n",
    "available_indicators = available_indicators.drop_duplicates()\n",
    "available_indicators"
   ]
  },
  {
   "cell_type": "code",
   "execution_count": 11,
   "id": "b2699e87",
   "metadata": {
    "execution": {
     "iopub.execute_input": "2022-01-12T11:58:41.613647Z",
     "iopub.status.busy": "2022-01-12T11:58:41.612717Z",
     "iopub.status.idle": "2022-01-12T11:58:41.618031Z",
     "shell.execute_reply": "2022-01-12T11:58:41.618611Z"
    },
    "papermill": {
     "duration": 0.032273,
     "end_time": "2022-01-12T11:58:41.618774",
     "exception": false,
     "start_time": "2022-01-12T11:58:41.586501",
     "status": "completed"
    },
    "tags": []
   },
   "outputs": [
    {
     "data": {
      "text/plain": [
       "[{'label': 'Indicator Name', 'value': 'Indicator Name'}]"
      ]
     },
     "execution_count": 11,
     "metadata": {},
     "output_type": "execute_result"
    }
   ],
   "source": [
    "ii = [{'label': i, 'value': i} for i in available_indicators]\n",
    "ii"
   ]
  },
  {
   "cell_type": "code",
   "execution_count": 12,
   "id": "262768de",
   "metadata": {
    "execution": {
     "iopub.execute_input": "2022-01-12T11:58:41.664671Z",
     "iopub.status.busy": "2022-01-12T11:58:41.663766Z",
     "iopub.status.idle": "2022-01-12T11:58:41.680009Z",
     "shell.execute_reply": "2022-01-12T11:58:41.680629Z"
    },
    "papermill": {
     "duration": 0.040795,
     "end_time": "2022-01-12T11:58:41.680804",
     "exception": false,
     "start_time": "2022-01-12T11:58:41.640009",
     "status": "completed"
    },
    "tags": []
   },
   "outputs": [
    {
     "data": {
      "text/plain": [
       "[{'label': 'Agriculture, value added (% of GDP)',\n",
       "  'value': 'Agriculture, value added (% of GDP)'},\n",
       " {'label': 'CO2 emissions (metric tons per capita)',\n",
       "  'value': 'CO2 emissions (metric tons per capita)'},\n",
       " {'label': 'Domestic credit provided by financial sector (% of GDP)',\n",
       "  'value': 'Domestic credit provided by financial sector (% of GDP)'},\n",
       " {'label': 'Electric power consumption (kWh per capita)',\n",
       "  'value': 'Electric power consumption (kWh per capita)'},\n",
       " {'label': 'Energy use (kg of oil equivalent per capita)',\n",
       "  'value': 'Energy use (kg of oil equivalent per capita)'},\n",
       " {'label': 'Exports of goods and services (% of GDP)',\n",
       "  'value': 'Exports of goods and services (% of GDP)'},\n",
       " {'label': 'Fertility rate, total (births per woman)',\n",
       "  'value': 'Fertility rate, total (births per woman)'},\n",
       " {'label': 'GDP growth (annual %)', 'value': 'GDP growth (annual %)'},\n",
       " {'label': 'Imports of goods and services (% of GDP)',\n",
       "  'value': 'Imports of goods and services (% of GDP)'},\n",
       " {'label': 'Industry, value added (% of GDP)',\n",
       "  'value': 'Industry, value added (% of GDP)'},\n",
       " {'label': 'Inflation, GDP deflator (annual %)',\n",
       "  'value': 'Inflation, GDP deflator (annual %)'},\n",
       " {'label': 'Life expectancy at birth, total (years)',\n",
       "  'value': 'Life expectancy at birth, total (years)'},\n",
       " {'label': 'Population density (people per sq. km of land area)',\n",
       "  'value': 'Population density (people per sq. km of land area)'},\n",
       " {'label': 'Services, etc., value added (% of GDP)',\n",
       "  'value': 'Services, etc., value added (% of GDP)'}]"
      ]
     },
     "execution_count": 12,
     "metadata": {},
     "output_type": "execute_result"
    }
   ],
   "source": [
    "available_indicators = df[['Indicator Name']].copy()\n",
    "available_indicators = available_indicators.drop_duplicates()\n",
    "available_indicators['label'] = available_indicators['Indicator Name']\n",
    "available_indicators['value'] = available_indicators['Indicator Name']\n",
    "#value_default = 'Fertility rate, total (births per woman)'\n",
    "#menu_id_var = 'crossfilter-xaxis-column'\n",
    "#available_indicators = available_indicators.drop(['Indicator Name'], axis=1)\n",
    "available_indicators_dict = available_indicators[['label','value']].to_dict('records')\n",
    "available_indicators_dict"
   ]
  },
  {
   "cell_type": "code",
   "execution_count": 13,
   "id": "687acf5a",
   "metadata": {
    "execution": {
     "iopub.execute_input": "2022-01-12T11:58:41.732144Z",
     "iopub.status.busy": "2022-01-12T11:58:41.731259Z",
     "iopub.status.idle": "2022-01-12T11:58:41.736512Z",
     "shell.execute_reply": "2022-01-12T11:58:41.737051Z"
    },
    "papermill": {
     "duration": 0.032763,
     "end_time": "2022-01-12T11:58:41.737218",
     "exception": false,
     "start_time": "2022-01-12T11:58:41.704455",
     "status": "completed"
    },
    "tags": []
   },
   "outputs": [
    {
     "data": {
      "text/plain": [
       "[{'label': 'Linear', 'value': 'Linear'}, {'label': 'Log', 'value': 'Log'}]"
      ]
     },
     "execution_count": 13,
     "metadata": {},
     "output_type": "execute_result"
    }
   ],
   "source": [
    "linearorlog_dict = [{'label': i, 'value': i} for i in ['Linear', 'Log']]\n",
    "linearorlog_dict"
   ]
  },
  {
   "cell_type": "markdown",
   "id": "fae7c6f0",
   "metadata": {
    "papermill": {
     "duration": 0.022272,
     "end_time": "2022-01-12T11:58:41.781228",
     "exception": false,
     "start_time": "2022-01-12T11:58:41.758956",
     "status": "completed"
    },
    "tags": []
   },
   "source": [
    "Set up layout"
   ]
  },
  {
   "cell_type": "markdown",
   "id": "815b43d4",
   "metadata": {
    "papermill": {
     "duration": 0.023834,
     "end_time": "2022-01-12T11:58:41.829001",
     "exception": false,
     "start_time": "2022-01-12T11:58:41.805167",
     "status": "completed"
    },
    "tags": []
   },
   "source": [
    "from layout.my_layout import app_layout"
   ]
  },
  {
   "cell_type": "code",
   "execution_count": 14,
   "id": "6a4077d7",
   "metadata": {
    "execution": {
     "iopub.execute_input": "2022-01-12T11:58:41.880260Z",
     "iopub.status.busy": "2022-01-12T11:58:41.879337Z",
     "iopub.status.idle": "2022-01-12T11:58:41.887015Z",
     "shell.execute_reply": "2022-01-12T11:58:41.887553Z"
    },
    "papermill": {
     "duration": 0.033238,
     "end_time": "2022-01-12T11:58:41.887735",
     "exception": false,
     "start_time": "2022-01-12T11:58:41.854497",
     "status": "completed"
    },
    "tags": []
   },
   "outputs": [],
   "source": [
    "slider_row = dbc.Row(dbc.Col(html.Div(dcc.Slider(\n",
    "        id='crossfilter-year--slider',\n",
    "        min=df['Year'].min(),\n",
    "        max=df['Year'].max(),\n",
    "        value=df['Year'].max(),\n",
    "        marks={str(year): str(year) for year in df['Year'].unique()},\n",
    "        step=None\n",
    ")),style={'backgroundColor': colors['background']},width=6))\n",
    "#app.layout = slider_row\n",
    "#app.run_server(mode=\"inline\")"
   ]
  },
  {
   "cell_type": "code",
   "execution_count": 15,
   "id": "f6c01355",
   "metadata": {
    "execution": {
     "iopub.execute_input": "2022-01-12T11:58:41.941967Z",
     "iopub.status.busy": "2022-01-12T11:58:41.941036Z",
     "iopub.status.idle": "2022-01-12T11:58:41.948095Z",
     "shell.execute_reply": "2022-01-12T11:58:41.948668Z"
    },
    "papermill": {
     "duration": 0.037837,
     "end_time": "2022-01-12T11:58:41.948847",
     "exception": false,
     "start_time": "2022-01-12T11:58:41.911010",
     "status": "completed"
    },
    "tags": []
   },
   "outputs": [],
   "source": [
    "top_menu_row = dbc.Container([\n",
    "    dbc.Row([\n",
    "        dbc.Col(html.Div(\n",
    "            dcc.Dropdown(\n",
    "                id='crossfilter-xaxis-column',\n",
    "                options=available_indicators_dict,\n",
    "                value='Fertility rate, total (births per woman)'\n",
    "            )),width=6),\n",
    "        dbc.Col(html.Div(\n",
    "            dcc.Dropdown(\n",
    "                id='crossfilter-yaxis-column',\n",
    "                options=available_indicators_dict,\n",
    "                value='Life expectancy at birth, total (years)'\n",
    "            )),width=6)]),\n",
    "            \n",
    "    dbc.Row([\n",
    "        dbc.Col(html.Div(dcc.RadioItems(\n",
    "                id='crossfilter-xaxis-type',\n",
    "                options=linearorlog_dict,\n",
    "                value='Linear',\n",
    "                labelStyle={'display': 'inline-block'}\n",
    "            )),width=6),\n",
    "        dbc.Col(html.Div(dcc.RadioItems(\n",
    "                    id='crossfilter-yaxis-type',\n",
    "                    options=linearorlog_dict,\n",
    "                    value='Linear',\n",
    "                    labelStyle={'display': 'inline-block'}\n",
    "                )),width=6)])\n",
    "        ],style={'backgroundColor': colors['background']}, fluid=True)\n",
    "#app.layout = top_menu_row\n",
    "#app.run_server(mode=\"inline\")\n"
   ]
  },
  {
   "cell_type": "code",
   "execution_count": 16,
   "id": "2ce4c93c",
   "metadata": {
    "execution": {
     "iopub.execute_input": "2022-01-12T11:58:41.997400Z",
     "iopub.status.busy": "2022-01-12T11:58:41.996479Z",
     "iopub.status.idle": "2022-01-12T11:58:42.001280Z",
     "shell.execute_reply": "2022-01-12T11:58:42.001905Z"
    },
    "papermill": {
     "duration": 0.031164,
     "end_time": "2022-01-12T11:58:42.002069",
     "exception": false,
     "start_time": "2022-01-12T11:58:41.970905",
     "status": "completed"
    },
    "tags": []
   },
   "outputs": [],
   "source": [
    "graph_layout = dbc.Container([dbc.Row([\n",
    "    dbc.Col([\n",
    "        dcc.Graph(\n",
    "            id='crossfilter-indicator-scatter',\n",
    "            hoverData={'points': [{'customdata': 'Japan'}]}\n",
    "        )\n",
    "    ]),\n",
    "    dbc.Col([\n",
    "        dcc.Graph(id='x-time-series'),\n",
    "        dcc.Graph(id='y-time-series'),\n",
    "    ])])],style={'backgroundColor': colors['background']}, fluid=True)\n",
    "\n",
    "#app.layout = graph_layout\n",
    "#app.run_server(mode=\"inline\")"
   ]
  },
  {
   "cell_type": "code",
   "execution_count": 17,
   "id": "a821e27e",
   "metadata": {
    "execution": {
     "iopub.execute_input": "2022-01-12T11:58:42.057089Z",
     "iopub.status.busy": "2022-01-12T11:58:42.056279Z",
     "iopub.status.idle": "2022-01-12T11:58:42.059702Z",
     "shell.execute_reply": "2022-01-12T11:58:42.058894Z"
    },
    "papermill": {
     "duration": 0.034391,
     "end_time": "2022-01-12T11:58:42.059926",
     "exception": false,
     "start_time": "2022-01-12T11:58:42.025535",
     "status": "completed"
    },
    "tags": []
   },
   "outputs": [],
   "source": [
    "app_layout = dbc.Container([\n",
    "        top_menu_row,\n",
    "        graph_layout,\n",
    "        slider_row\n",
    "],style={'backgroundColor': colors['background']},fluid=True)"
   ]
  },
  {
   "cell_type": "code",
   "execution_count": 18,
   "id": "ba3f168e",
   "metadata": {
    "execution": {
     "iopub.execute_input": "2022-01-12T11:58:42.117342Z",
     "iopub.status.busy": "2022-01-12T11:58:42.115383Z",
     "iopub.status.idle": "2022-01-12T11:58:42.117989Z",
     "shell.execute_reply": "2022-01-12T11:58:42.118447Z"
    },
    "papermill": {
     "duration": 0.029293,
     "end_time": "2022-01-12T11:58:42.118609",
     "exception": false,
     "start_time": "2022-01-12T11:58:42.089316",
     "status": "completed"
    },
    "tags": []
   },
   "outputs": [],
   "source": [
    "app.layout = app_layout"
   ]
  },
  {
   "cell_type": "code",
   "execution_count": 19,
   "id": "d380122e",
   "metadata": {
    "execution": {
     "iopub.execute_input": "2022-01-12T11:58:42.175725Z",
     "iopub.status.busy": "2022-01-12T11:58:42.174858Z",
     "iopub.status.idle": "2022-01-12T11:58:42.176882Z",
     "shell.execute_reply": "2022-01-12T11:58:42.177422Z"
    },
    "papermill": {
     "duration": 0.034585,
     "end_time": "2022-01-12T11:58:42.177635",
     "exception": false,
     "start_time": "2022-01-12T11:58:42.143050",
     "status": "completed"
    },
    "tags": []
   },
   "outputs": [],
   "source": [
    "def create_time_series(dff, axis_type, title):\n",
    "    return {\n",
    "        'data': [dict(\n",
    "            x=dff['Year'],\n",
    "            y=dff['Value'],\n",
    "            mode='lines+markers'\n",
    "        )],\n",
    "        'layout': {\n",
    "            'height': 225,\n",
    "            'margin': {'l': 20, 'b': 30, 'r': 10, 't': 10},\n",
    "            'annotations': [{\n",
    "                'x': 0, 'y': 0.85, 'xanchor': 'left', 'yanchor': 'bottom',\n",
    "                'xref': 'paper', 'yref': 'paper', 'showarrow': False,\n",
    "                'align': 'left', 'bgcolor': 'rgba(255, 255, 255, 0.5)',\n",
    "                'text': title\n",
    "            }],\n",
    "            'yaxis': {'type': 'linear' if axis_type == 'Linear' else 'log'},\n",
    "            'xaxis': {'showgrid': False}\n",
    "        }\n",
    "    }"
   ]
  },
  {
   "cell_type": "code",
   "execution_count": 20,
   "id": "255ebc82",
   "metadata": {
    "execution": {
     "iopub.execute_input": "2022-01-12T11:58:42.226287Z",
     "iopub.status.busy": "2022-01-12T11:58:42.225244Z",
     "iopub.status.idle": "2022-01-12T11:58:42.237462Z",
     "shell.execute_reply": "2022-01-12T11:58:42.238045Z"
    },
    "papermill": {
     "duration": 0.038185,
     "end_time": "2022-01-12T11:58:42.238223",
     "exception": false,
     "start_time": "2022-01-12T11:58:42.200038",
     "status": "completed"
    },
    "tags": []
   },
   "outputs": [],
   "source": [
    "@app.callback(\n",
    "    dash.dependencies.Output('crossfilter-indicator-scatter', 'figure'),\n",
    "    [dash.dependencies.Input('crossfilter-xaxis-column', 'value'),\n",
    "     dash.dependencies.Input('crossfilter-yaxis-column', 'value'),\n",
    "     dash.dependencies.Input('crossfilter-xaxis-type', 'value'),\n",
    "     dash.dependencies.Input('crossfilter-yaxis-type', 'value'),\n",
    "     dash.dependencies.Input('crossfilter-year--slider', 'value')])\n",
    "def update_graph(xaxis_column_name, yaxis_column_name,\n",
    "                 xaxis_type, yaxis_type,\n",
    "                 year_value):\n",
    "    dff = df[df['Year'] == year_value]\n",
    "\n",
    "    return {\n",
    "        'data': [dict(\n",
    "            x=dff[dff['Indicator Name'] == xaxis_column_name]['Value'],\n",
    "            y=dff[dff['Indicator Name'] == yaxis_column_name]['Value'],\n",
    "            text=dff[dff['Indicator Name'] == yaxis_column_name]['Country Name'],\n",
    "            customdata=dff[dff['Indicator Name'] == yaxis_column_name]['Country Name'],\n",
    "            mode='markers',\n",
    "            marker={\n",
    "                'size': 25,\n",
    "                'opacity': 0.7,\n",
    "                'color': 'orange',\n",
    "                'line': {'width': 2, 'color': 'purple'}\n",
    "            }\n",
    "        )],\n",
    "        'layout': dict(\n",
    "            xaxis={\n",
    "                'title': xaxis_column_name,\n",
    "                'color' : 'red',\n",
    "                'type': 'linear' if xaxis_type == 'Linear' else 'log'\n",
    "            },\n",
    "            yaxis={\n",
    "                'title': yaxis_column_name,\n",
    "                'color' : 'pink',\n",
    "                'type': 'linear' if yaxis_type == 'Linear' else 'log'\n",
    "            },\n",
    "            margin={'l': 40, 'b': 30, 't': 10, 'r': 0},\n",
    "            height=450,\n",
    "            hovermode='closest',\n",
    "            paper_bgcolor='blue',\n",
    "            plot_bgcolor='green'\n",
    "        )\n",
    "    }\n",
    "\n",
    "\n",
    "\n",
    "\n",
    "\n",
    "@app.callback(\n",
    "    dash.dependencies.Output('x-time-series', 'figure'),\n",
    "    [dash.dependencies.Input('crossfilter-indicator-scatter', 'hoverData'),\n",
    "     dash.dependencies.Input('crossfilter-xaxis-column', 'value'),\n",
    "     dash.dependencies.Input('crossfilter-xaxis-type', 'value')])\n",
    "def update_y_timeseries(hoverData, xaxis_column_name, axis_type):\n",
    "    country_name = hoverData['points'][0]['customdata']\n",
    "    dff = df[df['Country Name'] == country_name]\n",
    "    dff = dff[dff['Indicator Name'] == xaxis_column_name]\n",
    "    title = '<b>{}</b><br>{}'.format(country_name, xaxis_column_name)\n",
    "    return create_time_series(dff, axis_type, title)\n",
    "\n",
    "\n",
    "@app.callback(\n",
    "    dash.dependencies.Output('y-time-series', 'figure'),\n",
    "    [dash.dependencies.Input('crossfilter-indicator-scatter', 'hoverData'),\n",
    "     dash.dependencies.Input('crossfilter-yaxis-column', 'value'),\n",
    "     dash.dependencies.Input('crossfilter-yaxis-type', 'value')])\n",
    "def update_x_timeseries(hoverData, yaxis_column_name, axis_type):\n",
    "    dff = df[df['Country Name'] == hoverData['points'][0]['customdata']]\n",
    "    dff = dff[dff['Indicator Name'] == yaxis_column_name]\n",
    "    return create_time_series(dff, axis_type, yaxis_column_name)"
   ]
  },
  {
   "cell_type": "markdown",
   "id": "4c698a42",
   "metadata": {
    "papermill": {
     "duration": 0.025172,
     "end_time": "2022-01-12T11:58:42.289121",
     "exception": false,
     "start_time": "2022-01-12T11:58:42.263949",
     "status": "completed"
    },
    "tags": []
   },
   "source": [
    "Serve the app using `run_server`.  Unlike the standard `Dash.run_server` method, the `JupyterDash.run_server` method doesn't block execution of the notebook. It serves the app in a background thread, making it possible to run other notebook calculations while the app is running.\n",
    "\n",
    "This makes it possible to iterativly update the app without rerunning the potentially expensive data processing steps."
   ]
  },
  {
   "cell_type": "code",
   "execution_count": 21,
   "id": "a3cec0b0",
   "metadata": {
    "execution": {
     "iopub.execute_input": "2022-01-12T11:58:42.337515Z",
     "iopub.status.busy": "2022-01-12T11:58:42.336626Z",
     "iopub.status.idle": "2022-01-12T11:58:42.373480Z",
     "shell.execute_reply": "2022-01-12T11:58:42.372981Z"
    },
    "papermill": {
     "duration": 0.061987,
     "end_time": "2022-01-12T11:58:42.373673",
     "exception": false,
     "start_time": "2022-01-12T11:58:42.311686",
     "status": "completed"
    },
    "tags": []
   },
   "outputs": [
    {
     "name": "stdout",
     "output_type": "stream",
     "text": [
      "Dash app running on http://127.0.0.1:8052/\n"
     ]
    }
   ],
   "source": [
    "app.run_server(debug=True,port=port,mode='external')"
   ]
  },
  {
   "cell_type": "markdown",
   "id": "3fcbe5e7",
   "metadata": {
    "papermill": {
     "duration": 0.025798,
     "end_time": "2022-01-12T11:58:42.424961",
     "exception": false,
     "start_time": "2022-01-12T11:58:42.399163",
     "status": "completed"
    },
    "tags": []
   },
   "source": [
    "By default, `run_server` displays a URL that you can click on to open the app in a browser tab. The `mode` argument to `run_server` can be used to change this behavior.  Setting `mode=\"inline\"` will display the app directly in the notebook output cell."
   ]
  },
  {
   "cell_type": "code",
   "execution_count": 22,
   "id": "d39eaeb3",
   "metadata": {
    "execution": {
     "iopub.execute_input": "2022-01-12T11:58:42.475841Z",
     "iopub.status.busy": "2022-01-12T11:58:42.475287Z",
     "iopub.status.idle": "2022-01-12T11:58:42.478904Z",
     "shell.execute_reply": "2022-01-12T11:58:42.479369Z"
    },
    "papermill": {
     "duration": 0.03095,
     "end_time": "2022-01-12T11:58:42.479541",
     "exception": false,
     "start_time": "2022-01-12T11:58:42.448591",
     "status": "completed"
    },
    "tags": []
   },
   "outputs": [],
   "source": [
    "#app.run_server(mode=\"inline\")"
   ]
  },
  {
   "cell_type": "markdown",
   "id": "2fea8ad1",
   "metadata": {
    "papermill": {
     "duration": 0.023829,
     "end_time": "2022-01-12T11:58:42.527914",
     "exception": false,
     "start_time": "2022-01-12T11:58:42.504085",
     "status": "completed"
    },
    "tags": []
   },
   "source": [
    "When running in JupyterLab, with the `jupyterlab-dash` extension, setting `mode=\"jupyterlab\"` will open the app in a tab in JupyterLab.\n",
    "\n",
    "```python\n",
    "app.run_server(mode=\"jupyterlab\")\n",
    "```"
   ]
  },
  {
   "cell_type": "code",
   "execution_count": null,
   "id": "f27ff27b",
   "metadata": {
    "papermill": {
     "duration": 0.029322,
     "end_time": "2022-01-12T11:58:42.583533",
     "exception": false,
     "start_time": "2022-01-12T11:58:42.554211",
     "status": "completed"
    },
    "tags": []
   },
   "outputs": [],
   "source": []
  }
 ],
 "metadata": {
  "jupytext": {
   "formats": "ipynb,py:percent"
  },
  "kernelspec": {
   "display_name": "Python 3 (ipykernel)",
   "language": "python",
   "name": "python3"
  },
  "language_info": {
   "codemirror_mode": {
    "name": "ipython",
    "version": 3
   },
   "file_extension": ".py",
   "mimetype": "text/x-python",
   "name": "python",
   "nbconvert_exporter": "python",
   "pygments_lexer": "ipython3",
   "version": "3.9.5"
  },
  "papermill": {
   "default_parameters": {},
   "duration": 3.649406,
   "end_time": "2022-01-12T11:58:42.821936",
   "environment_variables": {},
   "exception": null,
   "input_path": "getting_started.ipynb",
   "output_path": "output.ipynb",
   "parameters": {
    "port": 8052
   },
   "start_time": "2022-01-12T11:58:39.172530",
   "version": "2.3.3"
  }
 },
 "nbformat": 4,
 "nbformat_minor": 5
}